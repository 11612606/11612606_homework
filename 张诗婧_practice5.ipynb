{
 "cells": [
  {
   "cell_type": "markdown",
   "metadata": {},
   "source": [
    "## 1. Symbolize the following proposition and discuss the truth."
   ]
  },
  {
   "cell_type": "markdown",
   "metadata": {},
   "source": [
    "1. \n",
    "M(x)： x is human being  \n",
    "F(x): x with black hair  \n",
    "Propositional symbolization:  x(M(x)->F(x))  \n",
    "There is a boy with yellow hair.  \n",
    "the boy is a human, so M(a) is true.  \n",
    "the boy doesn't have black hair, so F(a) is false.  \n",
    "so M(a) -> F(a) is false.  \n",
    "so the proposition is false.  "
   ]
  },
  {
   "cell_type": "markdown",
   "metadata": {},
   "source": [
    "2. \n",
    "G(x): someone boarded the moon.  \n",
    "Propositional symbolization: x(M(x)^G(x))  \n",
    "A China astronaut boarded the moon.  \n",
    "M(a)^G(a) is true.  \n",
    "the proposition is true"
   ]
  },
  {
   "cell_type": "markdown",
   "metadata": {},
   "source": [
    "3. \n",
    "H(x): x boarded the Jupiter.  \n",
    "Propositional symbolization: ￢x(M(x)∧H(x)).  \n",
    "Nobody have boarded the Jupiter.  \n",
    "x(M(x)∧H(x)) is false.  \n",
    "￢x(M(x)∧H(x)) is true.  \n",
    "Proposition is true.  \n"
   ]
  },
  {
   "cell_type": "markdown",
   "metadata": {},
   "source": [
    "4. \n",
    "F(x): x is student who is studying in the US.  \n",
    "G(x): x is Asian.  \n",
    "Propositional symbolization: ￢x(F(x)⇒G(x)).  \n",
    "An American boy is study in the US.  \n",
    "F(x) is false. x(F(x)->G(x)) is false.  \n",
    "￢x(F(x)⇒G(x)) is true.  \n",
    "proposition is true.\n"
   ]
  },
  {
   "cell_type": "markdown",
   "metadata": {},
   "source": [
    "## 2. Judge the following formula, which is tautology? What is the contradiction?"
   ]
  },
  {
   "cell_type": "markdown",
   "metadata": {},
   "source": [
    "1. \n",
    "tautology."
   ]
  },
  {
   "cell_type": "markdown",
   "metadata": {},
   "source": [
    "2. \n",
    "contradiction"
   ]
  },
  {
   "cell_type": "markdown",
   "metadata": {},
   "source": [
    "3. \n",
    "it may be tautology or contradiction in different cases."
   ]
  },
  {
   "cell_type": "markdown",
   "metadata": {},
   "source": [
    "## 3. Which of the following are correct?"
   ]
  },
  {
   "cell_type": "markdown",
   "metadata": {},
   "source": [
    "1.  correct. "
   ]
  },
  {
   "cell_type": "markdown",
   "metadata": {},
   "source": [
    "2.  correct."
   ]
  },
  {
   "cell_type": "markdown",
   "metadata": {},
   "source": [
    "3.  correct"
   ]
  },
  {
   "cell_type": "markdown",
   "metadata": {},
   "source": [
    "4. correct"
   ]
  },
  {
   "cell_type": "markdown",
   "metadata": {},
   "source": [
    "5. not correct"
   ]
  },
  {
   "cell_type": "markdown",
   "metadata": {},
   "source": [
    "## 4. Conjunctive normal form"
   ]
  },
  {
   "cell_type": "markdown",
   "metadata": {},
   "source": [
    "P∧(Q⇒R)⇒S  \n",
    "=￢(P∧(￢Q∨R))∨S  \n",
    "=￢P∨￢(￢Q∨R)∨S  \n",
    "=￢P∨(￢￢Q∧￢R)∨S  \n",
    "=￢P∨(Q∧￢R)∨S  \n",
    "=￢P∨S∨(Q∧￢R)  \n",
    "=(￢P∨S∨Q)∧(￢P∨S∨￢R)"
   ]
  },
  {
   "cell_type": "markdown",
   "metadata": {},
   "source": [
    "# 5. "
   ]
  },
  {
   "cell_type": "markdown",
   "metadata": {},
   "source": [
    "1. ∀ x Even(x) ⇔ ∃ y x=y + y."
   ]
  },
  {
   "cell_type": "markdown",
   "metadata": {},
   "source": [
    "2. ∀ x Prime(x) ⇔ ∀ y, z x=y ×z ⇒ y =1 ∨ z =1."
   ]
  },
  {
   "cell_type": "markdown",
   "metadata": {},
   "source": [
    "3. ∀ x Even(x) ⇒ ∃ y, z Prime(y) ∧ Prime(z) ∧ x=y + z."
   ]
  },
  {
   "cell_type": "code",
   "execution_count": null,
   "metadata": {},
   "outputs": [],
   "source": []
  }
 ],
 "metadata": {
  "kernelspec": {
   "display_name": "Python 3",
   "language": "python",
   "name": "python3"
  },
  "language_info": {
   "codemirror_mode": {
    "name": "ipython",
    "version": 3
   },
   "file_extension": ".py",
   "mimetype": "text/x-python",
   "name": "python",
   "nbconvert_exporter": "python",
   "pygments_lexer": "ipython3",
   "version": "3.7.0"
  }
 },
 "nbformat": 4,
 "nbformat_minor": 2
}
