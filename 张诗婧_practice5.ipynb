{
 "cells": [
  {
   "cell_type": "markdown",
   "metadata": {},
   "source": [
    "## 1. Symbolize the following proposition and discuss the truth."
   ]
  },
  {
   "cell_type": "markdown",
   "metadata": {},
   "source": [
    "1. \n",
    "M(x)： x is human being  \n",
    "F(x): x with black hair  \n",
    "Propositional symbolization:  x(M(x)->F(x))  \n",
    "There is a boy with yellow hair.  \n",
    "the boy is a human, so M(a) is true.  \n",
    "the boy doesn't have black hair, so F(a) is false.  \n",
    "so M(a) -> F(a) is false.  \n",
    "so the proposition is false.  "
   ]
  },
  {
   "cell_type": "markdown",
   "metadata": {},
   "source": [
    "2. \n",
    "G(x): someone boarded the moon.  \n",
    "Propositional symbolization: x(M(x)^G(x))  \n",
    "A China astronaut boarded the moon.  \n",
    "M(a)^G(a) is true.  \n",
    "the proposition is true"
   ]
  },
  {
   "cell_type": "markdown",
   "metadata": {},
   "source": [
    "3. \n",
    "H(x): x boarded the Jupiter.  \n",
    "Propositional symbolization: ￢x(M(x)∧H(x)).  \n",
    "Nobody have boarded the Jupiter.  \n",
    "x(M(x)∧H(x)) is false.  \n",
    "￢x(M(x)∧H(x)) is true.  \n",
    "Proposition is true.  \n"
   ]
  },
  {
   "cell_type": "markdown",
   "metadata": {},
   "source": [
    "4. \n",
    "F(x): x is student who is studying in the US.  \n",
    "G(x): x is Asian.  \n",
    "Propositional symbolization: ￢x(F(x)⇒G(x)).  \n",
    "An American boy is study in the US.  \n",
    "F(x) is false. x(F(x)->G(x)) is false.  \n",
    "￢x(F(x)⇒G(x)) is true.  \n",
    "proposition is true.\n"
   ]
  },
  {
   "cell_type": "markdown",
   "metadata": {},
   "source": [
    "## 2. Judge the following formula, which is tautology? What is the contradiction?"
   ]
  },
  {
   "cell_type": "markdown",
   "metadata": {},
   "source": [
    "1. \n",
    "tautology."
   ]
  },
  {
   "cell_type": "markdown",
   "metadata": {},
   "source": [
    "2. \n",
    "contradiction"
   ]
  },
  {
   "cell_type": "markdown",
   "metadata": {},
   "source": [
    "3. \n",
    "it may be tautology or contradiction in different cases."
   ]
  },
  {
   "cell_type": "markdown",
   "metadata": {},
   "source": [
    "## 3. Which of the following are correct?"
   ]
  },
  {
   "cell_type": "markdown",
   "metadata": {},
   "source": [
    "1.  correct. "
   ]
  },
  {
   "cell_type": "markdown",
   "metadata": {},
   "source": [
    "2.  correct."
   ]
  },
  {
   "cell_type": "markdown",
   "metadata": {},
   "source": [
    "3.  correct"
   ]
  },
  {
   "cell_type": "markdown",
   "metadata": {},
   "source": [
    "4. correct"
   ]
  },
  {
   "cell_type": "markdown",
   "metadata": {},
   "source": [
    "5. not correct"
   ]
  },
  {
   "cell_type": "markdown",
   "metadata": {},
   "source": [
    "## 4. Conjunctive normal form"
   ]
  },
  {
   "cell_type": "markdown",
   "metadata": {},
   "source": [
    "P∧(Q⇒R)⇒S  \n",
    "=￢(P∧(￢Q∨R))∨S  \n",
    "=￢P∨￢(￢Q∨R)∨S  \n",
    "=￢P∨(￢￢Q∧￢R)∨S  \n",
    "=￢P∨(Q∧￢R)∨S  \n",
    "=￢P∨S∨(Q∧￢R)  \n",
    "=(￢P∨S∨Q)∧(￢P∨S∨￢R)"
   ]
  },
  {
   "cell_type": "markdown",
   "metadata": {},
   "source": [
    "# 5. "
   ]
  },
  {
   "cell_type": "markdown",
   "metadata": {},
   "source": [
    "1. ∀ x Even(x) ⇔ ∃ y x=y + y."
   ]
  },
  {
   "cell_type": "markdown",
   "metadata": {},
   "source": [
    "2. ∀ x Prime(x) ⇔ ∀ y, z x=y ×z ⇒ y =1 ∨ z =1."
   ]
  },
  {
   "cell_type": "markdown",
   "metadata": {},
   "source": [
    "3. ∀ x Even(x) ⇒ ∃ y, z Prime(y) ∧ Prime(z) ∧ x=y + z."
   ]
  },
  {
   "cell_type": "markdown",
   "metadata": {},
   "source": [
    "# programming"
   ]
  },
  {
   "cell_type": "code",
   "execution_count": null,
   "metadata": {},
   "outputs": [],
   "source": [
    "class MinimaxGhost(GhostAgent):\n",
    "\n",
    "    \"\"\"\n",
    "      Your minimax agent (question 1)\n",
    "\n",
    "      useage: python2 pacman.py -p ExpectimaxAgent -l specialNew -g MinimaxGhost -a depth=4\n",
    "              python2 pacman.py -l specialNew -g MinimaxGhost\n",
    "\n",
    "    \"\"\"\n",
    "    \"*** YOUR CODE HERE ***\"\n",
    "\n",
    "    def __init__(self, index, Fn = 'betterEvaluationFunctionGhost'):\n",
    "        self.index = index\n",
    "        self.evaluationFunction = util.lookup(Fn, globals())\n",
    "\n",
    "    def getAction(self, state):\n",
    "        root_value = self.value(state, 0, self.index)\n",
    "        action = root_value[1]\n",
    "        return action\n",
    "\n",
    "    def value(self,state,depth,index):\n",
    "        if index == state.getNumAgents():\n",
    "            depth += 1\n",
    "            index = 0\n",
    "        actions = state.getLegalActions(index)\n",
    "        if len(actions) == 0 or depth == 2:\n",
    "            return [self.evaluationFunction(state)]\n",
    "        if index == 0:\n",
    "            return self.max(state,depth,index)\n",
    "        else:\n",
    "            return self.min(state,depth,index)\n",
    "\n",
    "    def max(self,gameState,depth,index):\n",
    "        node = [-float(\"inf\")]\n",
    "        node = self.core(node, gameState, depth, index)\n",
    "        return node[0], node[1]\n",
    "\n",
    "    def min(self,gameState,depth,index):\n",
    "        node = [float(\"inf\")]\n",
    "        node = self.core(node,gameState,depth,index)\n",
    "        return node[0], node[1]\n",
    "\n",
    "    def core(self,node,gameState,depth,index):\n",
    "        if node[0] < 0:\n",
    "            a=1\n",
    "        else:\n",
    "            a=0\n",
    "        actions = gameState.getLegalActions(index)\n",
    "        for action in actions:\n",
    "            successor = gameState.generateSuccessor(index, action)\n",
    "            value = self.value(successor, depth, index + 1)[0]\n",
    "            if a==0:\n",
    "                if (value <= node[0]):\n",
    "                    node = [value, action]\n",
    "            else:\n",
    "                if (value >= node[0]):\n",
    "                    node = [value, action]\n",
    "        return node\n",
    "\n",
    "def betterEvaluationFunctionGhost(state):\n",
    "\n",
    "    score = state.getScore()\n",
    "    pos = state.getPacmanPosition()\n",
    "    ghost_list = state.getGhostStates()\n",
    "    gdis = [manhattanDistance(pos, ghost.getPosition()) for ghost in ghost_list]\n",
    "    food_list= state.getFood().asList()\n",
    "    distance_list=[manhattanDistance(pos,i) for i in food_list]\n",
    "    if len(distance_list) >0:\n",
    "        score -= min(distance_list)\n",
    "    if len(gdis) > 0:\n",
    "        score += min(gdis)\n",
    "    return score"
   ]
  },
  {
   "cell_type": "markdown",
   "metadata": {},
   "source": [
    "1. New layout  \n",
    "%%%%%%%%%%%%%%%%%%%%%%%%  \n",
    "%o....  . G . G . ....o%  \n",
    "%.%%%%%%% %%%%% %%%%%%%%  \n",
    "% .... .%           ...%  \n",
    "%   ....%%%%%%%%.  ....%  \n",
    "%......................%  \n",
    "%. .....P..%%... ......%  \n",
    "%%%%%%%%%%%%%%%%%%%%%%%%  "
   ]
  },
  {
   "cell_type": "markdown",
   "metadata": {},
   "source": [
    "2."
   ]
  },
  {
   "cell_type": "markdown",
   "metadata": {},
   "source": [
    "------------| minmax ghost    | random ghost\n",
    "------------|------------------|----\n",
    "minmax pacman    | won 1/5 average 550 | won 3/5 average 805\n",
    "expectimax pacman | won 1/5 average 445  | won 3/5 average 678"
   ]
  },
  {
   "cell_type": "markdown",
   "metadata": {},
   "source": [
    "3.  \n",
    "\n",
    "1) minimax ghost vs. minimax pacman. Both of them use minmax method. The minimax pacman can correctly assume the movements of minimax ghost, and ghosts always chase pacman. In the end, pacman died frequently.\n",
    "\n",
    "2) minimax ghost vs. expectimax pacman. The pacman can correctly assume the ghost's behavior, and ghosts ghosts always chase pacman. In the end, pacman died frequently.\n",
    "\n",
    "3) random ghost vs. minimax pacman. The pacman can correctly assume the ghosts’ behavior, but ghosts can not. Pacman can win in most cases. However, it takes time. \n",
    "\n",
    "4) random ghost vs. expectimax pacman. The pacman can correctly assume the ghosts' behavior, but ghosts can not. The ghost move randomly. It takes long time."
   ]
  },
  {
   "cell_type": "markdown",
   "metadata": {},
   "source": [
    "4.\n",
    "The former ghost will influence the later one. The movement of one ghost will change the minimax tree. So, it seems that they can cooperate with each other.  "
   ]
  },
  {
   "cell_type": "code",
   "execution_count": null,
   "metadata": {},
   "outputs": [],
   "source": []
  }
 ],
 "metadata": {
  "kernelspec": {
   "display_name": "Python 3",
   "language": "python",
   "name": "python3"
  },
  "language_info": {
   "codemirror_mode": {
    "name": "ipython",
    "version": 3
   },
   "file_extension": ".py",
   "mimetype": "text/x-python",
   "name": "python",
   "nbconvert_exporter": "python",
   "pygments_lexer": "ipython3",
   "version": "3.7.0"
  }
 },
 "nbformat": 4,
 "nbformat_minor": 2
}
