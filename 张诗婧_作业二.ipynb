{
 "cells": [
  {
   "cell_type": "markdown",
   "metadata": {},
   "source": [
    "# Theory questions"
   ]
  },
  {
   "cell_type": "markdown",
   "metadata": {},
   "source": [
    "## question 1"
   ]
  },
  {
   "cell_type": "markdown",
   "metadata": {},
   "source": [
    "The start conditions：I want to see a movie with my friend. There is a theater. I and my friend both have money and time.  \n",
    "Roles: I, my friend, the ticket seller, popcorn seller  \n",
    "Equipment required: seats, popcorn, screening room, tickets  \n",
    "The scenes:   \n",
    "            1, invite my friend to enjoy the film   \n",
    "            2, go to the cinema  \n",
    "            3, buy tickets  \n",
    "            4, buy a huge bowl of popcorn  \n",
    "            5, step into the screening room  \n",
    "            6, enjoy the movie  \n",
    "            7, enjoy the popcorn  \n",
    "Results/outcomes: My friend kept me accompany and I enjoyed the popcorn and movie.  "
   ]
  },
  {
   "cell_type": "markdown",
   "metadata": {},
   "source": [
    "## question 2"
   ]
  },
  {
   "cell_type": "markdown",
   "metadata": {},
   "source": [
    "1, The farmer takes the duck to the west side of the river  \n",
    "2, The farmer returns to the east side of the river alone  \n",
    "3, The farmer takes the wolf to the west side of the river  \n",
    "4, The farmer takes the duck back to the east side of the river  \n",
    "5, The farmer takes the corn to the west side of the river  \n",
    "6, The farmer returns to the east side of the river alone  \n",
    "7, The famer carries the duck to the west side of the river   \n",
    "done"
   ]
  },
  {
   "cell_type": "markdown",
   "metadata": {},
   "source": [
    "## question 3"
   ]
  },
  {
   "cell_type": "markdown",
   "metadata": {},
   "source": [
    " Goals help organize behavior by limiting the objectives that the agent is trying to achieve and hence the actions it needs to consider.  Problem formulation is the process of deciding what actions and states to consider, given a goal. According to the definition, we need to determine our problem goals before we write the problem formulation. Otherwise, without a clear goal and doing the problem formulation first, we can not decide what objectives we want to achive. Hence we can not decide what actions and states to consider.\n"
   ]
  },
  {
   "cell_type": "markdown",
   "metadata": {},
   "source": [
    "## question 4"
   ]
  },
  {
   "cell_type": "markdown",
   "metadata": {},
   "source": [
    "BFS: ABCDEFHGIK  \n",
    "DFS: ABCEFDHI"
   ]
  },
  {
   "cell_type": "markdown",
   "metadata": {},
   "source": [
    "## question 5"
   ]
  },
  {
   "cell_type": "markdown",
   "metadata": {},
   "source": [
    "a.  \n",
    "               1  \n",
    "        2            3  \n",
    "    4       5     6      7  \n",
    "  8   9   10 11 12 13  14  15    \n",
    "b.  \n",
    "BFS: 1 2 3 4 5 6 7 8 9 10 11  \n",
    "DFS: 1 2 4 8 9 5 10 11  \n",
    "Iterative deepening search: 1 2 3; 1 2 4 5 3 6 7; 1 2 4 8 9 5 10 11  \n",
    "c.\n",
    "useful. forward:2 reverse direction:1\n",
    "d.\n",
    "yes. let the search start from 11, and the goal is 1.(exchange the goal and start point)\n",
    "e. 11->1011 1011->reverse->1101->which means left, right, right.\n",
    "\n",
    "\n"
   ]
  },
  {
   "cell_type": "markdown",
   "metadata": {},
   "source": [
    "# programming exercises"
   ]
  },
  {
   "cell_type": "markdown",
   "metadata": {},
   "source": [
    "## question 1"
   ]
  },
  {
   "cell_type": "code",
   "execution_count": 1,
   "metadata": {},
   "outputs": [
    {
     "name": "stdout",
     "output_type": "stream",
     "text": [
      "there are 12 rabbits in the farm\n",
      "there are 23 chickens in the farm\n"
     ]
    }
   ],
   "source": [
    "for i in range(1, 36):\n",
    "    if (94-4*i)/2 == 35-i:\n",
    "        print(\"there are \"+str(i)+\" rabbits in the farm\")\n",
    "        print(\"there are \"+str(35-i)+\" chickens in the farm\")\n",
    "    else:\n",
    "        i = i+1"
   ]
  },
  {
   "cell_type": "markdown",
   "metadata": {},
   "source": [
    "## question 2"
   ]
  },
  {
   "cell_type": "code",
   "execution_count": 5,
   "metadata": {},
   "outputs": [
    {
     "name": "stdout",
     "output_type": "stream",
     "text": [
      "thom is a mango buyer\n"
     ]
    }
   ],
   "source": [
    "graph = {\"you\":[\"bob\",\"claire\", \"alice\"],\n",
    "         \"bob\": [\"anuj\",\"peggy\"],\n",
    "         \"anuj\":[],\n",
    "         \"peggy\":[],\n",
    "         \"alice\":[\"peggy\"],\n",
    "         \"claire\":[\"thom\",\"jonny\"],\n",
    "         \"thom\":[],\n",
    "         \"jonny\":[]}\n",
    "visit = []\n",
    "def DFS(graph):\n",
    "    stack = [\"you\"]\n",
    "    visit.append(\"you\")\n",
    "    while stack:\n",
    "        a = stack.pop()\n",
    "        for j in range(len(graph[a])):\n",
    "            if graph[a][j] not in visit:\n",
    "                stack.append(graph[a][j])\n",
    "                visit.append(graph[a][j])\n",
    "        if a.endswith(\"m\"):\n",
    "                print(a + \" is a mango buyer\")\n",
    "\n",
    "\n",
    "DFS(graph)\n"
   ]
  },
  {
   "cell_type": "markdown",
   "metadata": {},
   "source": [
    "## question 3"
   ]
  },
  {
   "cell_type": "code",
   "execution_count": null,
   "metadata": {},
   "outputs": [],
   "source": [
    "import os\n",
    "\n",
    "files = []\n",
    "def dfs_C_disk(path) :\n",
    "    stack = [path]\n",
    "    while stack:\n",
    "        a = stack.pop()\n",
    "        try:\n",
    "            for j in os.listdir(a):\n",
    "                abspath = os.path.join(a, j)\n",
    "                if os.path.isdir(abspath):\n",
    "                    stack.append(abspath)\n",
    "                if os.path.isfile(abspath):\n",
    "                    #if fnmatch.fnmatch(abspath, '.dll'):\n",
    "                    if abspath.endswith(\".dll\"):  \n",
    "                        files.append(abspath)\n",
    "        except:\n",
    "            pass\n",
    "    print(files)\n",
    "\n",
    "dfs_C_disk(\"C:/\")"
   ]
  },
  {
   "cell_type": "markdown",
   "metadata": {},
   "source": [
    "## question 4"
   ]
  },
  {
   "cell_type": "code",
   "execution_count": null,
   "metadata": {},
   "outputs": [],
   "source": [
    "import os\n",
    "import collections\n",
    "\n",
    "def bfs_C_disk (path):\n",
    "    files = []\n",
    "    queue = collections.deque(path)\n",
    "    while queue:\n",
    "        a = queue.popleft()\n",
    "        try:\n",
    "            for j in os.listdir(a):\n",
    "                abspath = os.path.join(a, j)\n",
    "                if os.path.isdir(abspath):\n",
    "                    queue.append(abspath)\n",
    "                if os.path.isfile(abspath):\n",
    "                    if abspath.endswith(\".dll\"):\n",
    "                        print(abspath)\n",
    "                        files.append(abspath)\n",
    "        except:\n",
    "            pass\n",
    "bfs_C_disk(\"C:/\")"
   ]
  },
  {
   "cell_type": "markdown",
   "metadata": {},
   "source": [
    "注：这两道题代码在jupyter Notebook上无法运行出结果，但在pycharm中可以，于是我把在pycharm上的结果附在下面~\n",
    " Boot\\bootvhd.dll\n",
    "/Windows\\d3dx9_35.dll\n",
    "/Windows\\dxva2.dll\n",
    "/Windows\\GdiPlus.dll\n",
    "/Windows\\normaliz.dll\n",
    "/Windows\\PidVid_List.dll\n",
    "/Windows\\pyshellext.amd64.dll\n",
    "/Windows\\qdv.dll\n",
    "/Windows\\quartz.dll\n",
    "/Windows\\RtlExUpd.dll\n",
    "/Windows\\twain_32.dll\n",
    "/Windows\\xinstaller.dll\n",
    "/Windows10Upgrade\\appraiserxp.dll\n",
    "/Windows10Upgrade\\cosquery.dll\n",
    "/Windows10Upgrade\\DevInv.dll\n",
    "/Windows10Upgrade\\downloader.dll\n",
    "/Windows10Upgrade\\ESDHelper.dll\n",
    "/Windows10Upgrade\\esdstub.dll\n",
    "/Windows10Upgrade\\GetCurrentDeploy.dll\n",
    "/Windows10Upgrade\\GetCurrentOOBE.dll\n",
    "/Windows10Upgrade\\wimgapi.dll\n",
    "/Windows10Upgrade\\windlp.dll\n",
    "/$WINDOWS.~BT\\Sources\\acmigration.dll\n",
    "/$WINDOWS.~BT\\Sources\\acres.dll\n",
    "/$WINDOWS.~BT\\Sources\\actionqueue.dll\n",
    "/$WINDOWS.~BT\\Sources\\adfscomp.dll\n",
    "/$WINDOWS.~BT\\Sources\\admtv3check.dll\n",
    "/$WINDOWS.~BT\\Sources\\aeinv.dll\n",
    "/$WINDOWS.~BT\\Sources\\api-ms-win-core-apiquery-l1-1-0.dll\n",
    "..................."
   ]
  },
  {
   "cell_type": "markdown",
   "metadata": {},
   "source": [
    "## question 5"
   ]
  },
  {
   "cell_type": "code",
   "execution_count": 1,
   "metadata": {},
   "outputs": [
    {
     "name": "stdout",
     "output_type": "stream",
     "text": [
      "the route is : [2, 5, 10, 21, 42, 85]\n",
      "the cost is : 53\n"
     ]
    }
   ],
   "source": [
    "import math\n",
    "\n",
    "def UCS(start, goal):\n",
    "    frontier = [start]\n",
    "    explored = []\n",
    "    cameFrom = {}\n",
    "    dist = {}\n",
    "    dist[start]=0\n",
    "    while frontier:\n",
    "        current_value = 100000\n",
    "        for j in frontier:\n",
    "            if dist[j] < current_value:\n",
    "                current_value = dist[j]\n",
    "                current = j\n",
    "        if current == goal:\n",
    "            route = [current]\n",
    "            cost = str(dist[current])\n",
    "            while current in cameFrom:\n",
    "                current = cameFrom[current]\n",
    "                route.append(current)\n",
    "            route.reverse()\n",
    "            return \"the route is : \" + str(route) + \"\\n\" + \"the cost is : \" + cost\n",
    "        frontier.remove(current)\n",
    "        explored.append(current)\n",
    "        for i in (current*2, current*2+1, current*2+2):\n",
    "            frontier.append(i)\n",
    "\n",
    "        if current*2 in dist:\n",
    "            if dist[current*2] > dist[current]+current:\n",
    "                dist[current*2] = dist[current]+current\n",
    "                cameFrom[current*2] = current\n",
    "        else:\n",
    "            dist[current*2] = dist[current]+current\n",
    "            cameFrom[current*2] = current\n",
    "\n",
    "        if current*2+1 in dist:\n",
    "            if dist[current*2+1] > dist[current]+math.floor(current/2):\n",
    "                dist[current*2+1] = dist[current]+math.floor(current/2)\n",
    "                cameFrom[current*2+1] = current\n",
    "        else:\n",
    "            dist[current*2+1] = dist[current]+math.floor(current/2)\n",
    "            cameFrom[current*2+1] = current\n",
    "\n",
    "        if current*2+2 in dist:\n",
    "            if dist[current*2+2] > dist[current]+current+2:\n",
    "                dist[current*2+2] = dist[current]+current+2\n",
    "                cameFrom[current*2+2] = current\n",
    "        else:\n",
    "            dist[current*2+2] = dist[current]+current+2\n",
    "            cameFrom[current*2+2] = current\n",
    "\n",
    "    return \"Failure\"\n",
    "\n",
    "print(UCS(2, 85))"
   ]
  },
  {
   "cell_type": "markdown",
   "metadata": {},
   "source": [
    "## question 6"
   ]
  },
  {
   "cell_type": "code",
   "execution_count": 1,
   "metadata": {},
   "outputs": [
    {
     "name": "stdout",
     "output_type": "stream",
     "text": [
      "[(2, 1), (1, 2), (0, 3), (1, 4), (2, 5)]\n"
     ]
    }
   ],
   "source": [
    "\n",
    "def A(start, goal):\n",
    "    closedSet = []\n",
    "    openSet = [start]\n",
    "    cameFrom = {}\n",
    "    gScore = {}\n",
    "    gScore[start]=0\n",
    "    gScore[(3,3),(2,3),(1,3)]=10000\n",
    "    fScore = {}\n",
    "    fScore[start] = 4\n",
    "    direction = [(-1,-1),(-1,0),(-1,1),(0,-1),(0,1),(1,-1),(1,0),(1,1)]\n",
    "    while openSet:\n",
    "        current_value = 1000\n",
    "        for j in openSet:\n",
    "            if fScore[j] < current_value:\n",
    "                current_value = fScore[j]\n",
    "                current = j\n",
    "        if current == goal:\n",
    "            route = [current]\n",
    "            while current in cameFrom:\n",
    "                current = cameFrom[current]\n",
    "                route.append(current)\n",
    "            route.reverse()\n",
    "            return route\n",
    "        openSet.remove(current)\n",
    "        closedSet.append(current)\n",
    "        neighbor = []\n",
    "        for i in range(8):\n",
    "            neighbor.append((current[0]+direction[i][0],current[1]+direction[i][1]))\n",
    "        for n in neighbor:\n",
    "            if (n == (3,3))|(n==(2,3))|(n==(1,3))|(n[0]<0)|(n[1]<0)|(n[0]>4)|(n[1]>6):\n",
    "                continue\n",
    "            if n in closedSet:\n",
    "                continue\n",
    "            tentative_gScore = gScore[current] + dist_between(current, n)\n",
    "            if n in openSet:\n",
    "                if tentative_gScore >= gScore[n]:\n",
    "                    continue\n",
    "                cameFrom[n] = current\n",
    "                gScore[n] = tentative_gScore\n",
    "                fScore[n] = gScore[n] + heuristic_cost_estimate(n, goal)\n",
    "            if n not in openSet:\n",
    "                openSet.append(n)\n",
    "                cameFrom[n] = current\n",
    "                gScore[n] = tentative_gScore\n",
    "                fScore[n] = gScore[n] + heuristic_cost_estimate(n, goal)\n",
    "    return \"Failure\"\n",
    "def dist_between(current, n):\n",
    "    return abs(current[0]-n[0])+abs(current[1]-n[1])\n",
    "def heuristic_cost_estimate(n, goal):\n",
    "    return abs(n[0]-goal[0])+abs(goal[1]-n[1])\n",
    "print(A((2,1),(2,5)))"
   ]
  },
  {
   "cell_type": "code",
   "execution_count": null,
   "metadata": {},
   "outputs": [],
   "source": []
  }
 ],
 "metadata": {
  "kernelspec": {
   "display_name": "Python 3",
   "language": "python",
   "name": "python3"
  },
  "language_info": {
   "codemirror_mode": {
    "name": "ipython",
    "version": 3
   },
   "file_extension": ".py",
   "mimetype": "text/x-python",
   "name": "python",
   "nbconvert_exporter": "python",
   "pygments_lexer": "ipython3",
   "version": "3.6.5"
  }
 },
 "nbformat": 4,
 "nbformat_minor": 2
}
